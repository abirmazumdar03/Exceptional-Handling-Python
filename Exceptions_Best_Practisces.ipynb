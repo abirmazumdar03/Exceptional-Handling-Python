{
 "cells": [
  {
   "cell_type": "markdown",
   "metadata": {},
   "source": [
    "# **01 Exception Handling with Good Practisces**\n",
    "\n",
    "## **1.1 Exception Handling**\n",
    "* **try block** : Will put only those chunks of code in the try block which can potentially raise a an Exception\n",
    "* **except block** : The block which deals with the corresponding exception which is being raised and handles it out.\n",
    "* **else block** : This block will be executed iff when No exception is raised\n",
    "* **final block** : This block will be executed despite being Exception raised or not.\n",
    "* You can create your own custom Exception handling methods\n",
    "\n",
    "## **1.2 Good Practises**\n",
    "* Awlays use the specific Exception that might get raised\n",
    "* Always give meaningful easy interpreteable Exception handling message\n",
    "* Try to log out the exption events in a proper log file"
   ]
  },
  {
   "cell_type": "code",
   "execution_count": 123,
   "metadata": {},
   "outputs": [],
   "source": [
    "import logging\n",
    "from random import randint,choice,shuffle\n",
    "from os import getcwd\n",
    "from time import sleep"
   ]
  },
  {
   "cell_type": "code",
   "execution_count": null,
   "metadata": {},
   "outputs": [],
   "source": [
    "lst=list(range(1,50))\n",
    "shuffle(lst)\n",
    "def Elemination(pos):\n",
    "    global lst\n",
    "    try:\n",
    "        print(f\"Element {lst.pop(pos)} removed from Position {pos}\")\n",
    "        return True\n",
    "    except IndexError as e:  # Specific Error/Exception used\n",
    "        print(f\"Elementation Stops Out becuase of IndexError {e}\") #Meaninful Error Message\n",
    "        return False\n"
   ]
  },
  {
   "cell_type": "code",
   "execution_count": 115,
   "metadata": {},
   "outputs": [
    {
     "name": "stdout",
     "output_type": "stream",
     "text": [
      "Element 5 removed from Position 23\n",
      "Element 7 removed from Position 19\n",
      "Element 33 removed from Position 1\n",
      "Element 22 removed from Position 37\n",
      "Elementation Stops Out becuase of IndexError pop index out of range\n"
     ]
    }
   ],
   "source": [
    "while(Elemination(choice(range(1,50)))):\n",
    "    #print(\"BAM BAM BAM\")\n",
    "    pass\n"
   ]
  },
  {
   "cell_type": "markdown",
   "metadata": {},
   "source": [
    "### **Exception with Log File**"
   ]
  },
  {
   "cell_type": "code",
   "execution_count": 116,
   "metadata": {},
   "outputs": [],
   "source": [
    "logging.getLogger().handlers = []  # Clear existing handlers to avoid conflit with already existing handlers/log file\n",
    "logging.basicConfig(level=logging.INFO, format='%(asctime)s  %(levelname)s  %(message)s',filename=\"Practical.log\") # This will create a new log file with the name Luck.log"
   ]
  },
  {
   "cell_type": "code",
   "execution_count": 128,
   "metadata": {},
   "outputs": [],
   "source": [
    "lst=[1,3,5,6.6,7.8,5+4j,8+7j,55-9j,\"Spam\",\"Ham\",\"Carbon\",True,False,5.32,17.56,\"POPPY\",7,23,99.6,45.2,\"NSU\"]\n",
    "shuffle(lst)\n",
    "def Picker(pos):\n",
    "    global lst\n",
    "    shuffle(lst)\n",
    "    try:\n",
    "        lst[pos]**2\n",
    "        logging.info(f\"NON-STRING ELEMENT DETECTED AT POSITION {pos}\")\n",
    "        return True\n",
    "    except TypeError as e:\n",
    "        logging.error(f\"STRING ELEMENT DETECTED AT POSITION {pos} {e}\")\n",
    "        return False\n"
   ]
  },
  {
   "cell_type": "code",
   "execution_count": 129,
   "metadata": {},
   "outputs": [],
   "source": [
    "sleep(5)\n",
    "while(Picker(choice(range(0,len(lst))))):\n",
    "    continue"
   ]
  },
  {
   "cell_type": "markdown",
   "metadata": {},
   "source": [
    "### **Custom User-defined Exception**"
   ]
  },
  {
   "cell_type": "code",
   "execution_count": 140,
   "metadata": {},
   "outputs": [],
   "source": [
    "class Custom_Exception(Exception):  #Creating an Custom child exception class under the Parent Exception\n",
    "    def __init__(self,msg):\n",
    "        self.msg=msg\n",
    "\n",
    "def Validtation(sal):   #Validation of salary code\n",
    "    if(sal<=0):\n",
    "        raise Custom_Exception(\"Enter a Valid Salary\")  # The exception msg to be raised\n",
    "    elif(sal>=300000):\n",
    "        raise Custom_Exception(\"Enter a valid Salary\")"
   ]
  },
  {
   "cell_type": "code",
   "execution_count": 141,
   "metadata": {},
   "outputs": [],
   "source": [
    "try:\n",
    "    sal=int(input(\"Enter Your Salary : \"))\n",
    "    Validtation(sal)\n",
    "except Custom_Exception as e:\n",
    "    print(e)"
   ]
  }
 ],
 "metadata": {
  "kernelspec": {
   "display_name": "Python 3",
   "language": "python",
   "name": "python3"
  },
  "language_info": {
   "codemirror_mode": {
    "name": "ipython",
    "version": 3
   },
   "file_extension": ".py",
   "mimetype": "text/x-python",
   "name": "python",
   "nbconvert_exporter": "python",
   "pygments_lexer": "ipython3",
   "version": "3.13.1"
  }
 },
 "nbformat": 4,
 "nbformat_minor": 2
}
